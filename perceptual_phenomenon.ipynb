{
 "cells": [
  {
   "cell_type": "markdown",
   "metadata": {},
   "source": [
    "### Analyzing the Stroop Effect\n",
    "\n",
    "We have a sample of people who have taken both tests in the stroop experiment: One with congruent words whose color matches the color in the word, and one with incongruent words whose color does not match.\n",
    "\n",
    "(1) Independent variable and dependent variable:"
   ]
  },
  {
   "cell_type": "markdown",
   "metadata": {},
   "source": [
    "> **independent variables**: congruent and incongruent words\n",
    "\n",
    "> **dependent variable**: duration of test"
   ]
  },
  {
   "cell_type": "markdown",
   "metadata": {},
   "source": [
    "(2) Hypotheses statement and kind of statistical test we expect to perform:"
   ]
  },
  {
   "cell_type": "markdown",
   "metadata": {},
   "source": [
    "### Hypothesis \n",
    "$Ho$ (null): $\\mu$1 = $\\mu$2\n",
    "\n",
    "> In other words, the null hypothesis is that the mean duration of all tests in the population for congruent words is **equal** to the mean duration of all tests in the population for congruent words.\n",
    "\n",
    "$Ha$ (alternative): $\\mu$1 ≠ $\\mu$2\n",
    "\n",
    "> In other words, the alternative hypothesis is that the mean duration of all tests in the population for congruent words is **not equal** to the mean duration of all tests in the population for congruent words.\n",
    "\n",
    "### Statistical Test\n",
    "\n",
    "We are going to perform a dependent paired t-test with a two-tailed p-value. It has to be a t-test because our sample size is under 30 (24). We can also assume the distribution is nearly normal because our degrees of freedom is above 30 (24 + 24 - 2 = 46). It is not totally independent because it is a paired test in which the same population is performing two different tests. It is a two-tailed test because in our alternative hypothesis we say that the two population means are unequal, not one being greater than or less than the other."
   ]
  },
  {
   "cell_type": "markdown",
   "metadata": {},
   "source": [
    "(3) Descriptive statistics regarding this dataset, including at least one measure of central tendency and at least one measure of variability. The name of the data file is 'stroopdata.csv'."
   ]
  },
  {
   "cell_type": "code",
   "execution_count": 1,
   "metadata": {},
   "outputs": [
    {
     "name": "stdout",
     "output_type": "stream",
     "text": [
      "Congruent Variance: 12.141152859375003\n",
      "Incongruent Variance: 22.05293382638889\n"
     ]
    },
    {
     "data": {
      "text/html": [
       "<div>\n",
       "<style scoped>\n",
       "    .dataframe tbody tr th:only-of-type {\n",
       "        vertical-align: middle;\n",
       "    }\n",
       "\n",
       "    .dataframe tbody tr th {\n",
       "        vertical-align: top;\n",
       "    }\n",
       "\n",
       "    .dataframe thead th {\n",
       "        text-align: right;\n",
       "    }\n",
       "</style>\n",
       "<table border=\"1\" class=\"dataframe\">\n",
       "  <thead>\n",
       "    <tr style=\"text-align: right;\">\n",
       "      <th></th>\n",
       "      <th>Congruent</th>\n",
       "      <th>Incongruent</th>\n",
       "    </tr>\n",
       "  </thead>\n",
       "  <tbody>\n",
       "    <tr>\n",
       "      <th>count</th>\n",
       "      <td>24.000000</td>\n",
       "      <td>24.000000</td>\n",
       "    </tr>\n",
       "    <tr>\n",
       "      <th>mean</th>\n",
       "      <td>14.051125</td>\n",
       "      <td>22.015917</td>\n",
       "    </tr>\n",
       "    <tr>\n",
       "      <th>std</th>\n",
       "      <td>3.559358</td>\n",
       "      <td>4.797057</td>\n",
       "    </tr>\n",
       "    <tr>\n",
       "      <th>min</th>\n",
       "      <td>8.630000</td>\n",
       "      <td>15.687000</td>\n",
       "    </tr>\n",
       "    <tr>\n",
       "      <th>25%</th>\n",
       "      <td>11.895250</td>\n",
       "      <td>18.716750</td>\n",
       "    </tr>\n",
       "    <tr>\n",
       "      <th>50%</th>\n",
       "      <td>14.356500</td>\n",
       "      <td>21.017500</td>\n",
       "    </tr>\n",
       "    <tr>\n",
       "      <th>75%</th>\n",
       "      <td>16.200750</td>\n",
       "      <td>24.051500</td>\n",
       "    </tr>\n",
       "    <tr>\n",
       "      <th>max</th>\n",
       "      <td>22.328000</td>\n",
       "      <td>35.255000</td>\n",
       "    </tr>\n",
       "  </tbody>\n",
       "</table>\n",
       "</div>"
      ],
      "text/plain": [
       "       Congruent  Incongruent\n",
       "count  24.000000    24.000000\n",
       "mean   14.051125    22.015917\n",
       "std     3.559358     4.797057\n",
       "min     8.630000    15.687000\n",
       "25%    11.895250    18.716750\n",
       "50%    14.356500    21.017500\n",
       "75%    16.200750    24.051500\n",
       "max    22.328000    35.255000"
      ]
     },
     "execution_count": 1,
     "metadata": {},
     "output_type": "execute_result"
    }
   ],
   "source": [
    "import pandas as pd\n",
    "import numpy as np\n",
    "\n",
    "df = pd.read_csv('stroopdata.csv')\n",
    "print('Congruent Variance: {}'.format(np.var(df['Congruent'])))\n",
    "print('Incongruent Variance: {}'.format(np.var(df['Incongruent'])))\n",
    "df.describe()"
   ]
  },
  {
   "cell_type": "code",
   "execution_count": 2,
   "metadata": {},
   "outputs": [
    {
     "name": "stdout",
     "output_type": "stream",
     "text": [
      "<class 'pandas.core.frame.DataFrame'>\n",
      "RangeIndex: 24 entries, 0 to 23\n",
      "Data columns (total 2 columns):\n",
      "Congruent      24 non-null float64\n",
      "Incongruent    24 non-null float64\n",
      "dtypes: float64(2)\n",
      "memory usage: 464.0 bytes\n"
     ]
    }
   ],
   "source": [
    "df.info()"
   ]
  },
  {
   "cell_type": "markdown",
   "metadata": {},
   "source": [
    "--write answer here--"
   ]
  },
  {
   "cell_type": "markdown",
   "metadata": {},
   "source": [
    "(4) Some visualizations showing the distribution of the sample data, noting our observations about the plot or plots."
   ]
  },
  {
   "cell_type": "code",
   "execution_count": 3,
   "metadata": {},
   "outputs": [
    {
     "data": {
      "text/plain": [
       "Text(0.5,0,'Duration')"
      ]
     },
     "execution_count": 3,
     "metadata": {},
     "output_type": "execute_result"
    },
    {
     "data": {
      "image/png": "[encoded data removed]",
      "text/plain": [
       "<matplotlib.figure.Figure at 0x1146ad5f8>"
      ]
     },
     "metadata": {},
     "output_type": "display_data"
    }
   ],
   "source": [
    "import matplotlib.pyplot as plt\n",
    "% matplotlib inline\n",
    "plt.hist(df['Congruent'])\n",
    "plt.title('Congruent Words')\n",
    "plt.xlabel('Duration')"
   ]
  },
  {
   "cell_type": "code",
   "execution_count": 4,
   "metadata": {},
   "outputs": [
    {
     "data": {
      "text/plain": [
       "Text(0.5,0,'Duration')"
      ]
     },
     "execution_count": 4,
     "metadata": {},
     "output_type": "execute_result"
    },
    {
     "data": {
      "image/png": "[encoded data removed]",
      "text/plain": [
       "<matplotlib.figure.Figure at 0x111f889b0>"
      ]
     },
     "metadata": {},
     "output_type": "display_data"
    }
   ],
   "source": [
    "plt.hist(df['Incongruent'])\n",
    "plt.title('Incongruent Words')\n",
    "plt.xlabel('Duration')"
   ]
  },
  {
   "cell_type": "markdown",
   "metadata": {},
   "source": [
    "**Duration Distributions**: Neither Congruent Word or Incongruent word durations seem to be normally distributed, however, it is difficult to verify normality in small datasets (these are a size of 24). It does appear that Congruent word durations peak at 15 minutes and Incongruent word durations peak at 20 minutes."
   ]
  },
  {
   "cell_type": "markdown",
   "metadata": {},
   "source": [
    "(5) Now, we'll perform the statistical test and report the results. What is the confidence level and critical statistic value? Do we reject the null hypothesis or fail to reject it? We'll come to a conclusion in terms of the experiment task. Did the results match up with our expectations?"
   ]
  },
  {
   "cell_type": "code",
   "execution_count": 5,
   "metadata": {},
   "outputs": [
    {
     "name": "stderr",
     "output_type": "stream",
     "text": [
      "/Users/christinacaddel/anaconda3/envs/sampling_distrib/lib/python3.6/site-packages/statsmodels/compat/pandas.py:56: FutureWarning: The pandas.core.datetools module is deprecated and will be removed in a future version. Please use the pandas.tseries module instead.\n",
      "  from pandas.core import datetools\n"
     ]
    }
   ],
   "source": [
    "import statsmodels.api as sm\n",
    "import scipy.stats as stats\n",
    "from math import sqrt\n",
    "from scipy.stats import t\n",
    "\n",
    "#run independent t-test\n",
    "t_test = stats.ttest_rel(df['Congruent'], df['Incongruent'], axis=0)"
   ]
  },
  {
   "cell_type": "code",
   "execution_count": 6,
   "metadata": {},
   "outputs": [],
   "source": [
    "#convert independent variable columns to lists in order to calculate summary stats individually\n",
    "con = df['Congruent'].tolist()\n",
    "incon = df['Incongruent'].tolist()"
   ]
  },
  {
   "cell_type": "code",
   "execution_count": 7,
   "metadata": {},
   "outputs": [],
   "source": [
    "##Calculate the mean difference and 95% confidence interval\n",
    "\n",
    "#calculate size of dataset for each independent variable\n",
    "n_con = 24\n",
    "n_incon = 24\n",
    "\n",
    "#calculate degrees of freedom\n",
    "df = (n_con + n_incon - 2)\n",
    "\n",
    "#calculate standard deviation of each independent variable, and average standard deviation between the two groups\n",
    "std_con = np.std(con)\n",
    "std_incon = np.std(incon)\n",
    "std_both = sqrt(((n_con-1)*(std_con)**2 + (n_incon-1)*(std_incon)**2)/df)\n",
    "\n",
    "#calculate the mean difference and margin of error\n",
    "diff_mean = np.mean(con) - np.mean(incon)\n",
    "MoE = t.ppf(0.95, df) * std_both * sqrt(1/n_con + 1/n_incon)"
   ]
  },
  {
   "cell_type": "code",
   "execution_count": 8,
   "metadata": {},
   "outputs": [
    {
     "name": "stdout",
     "output_type": "stream",
     "text": [
      "The results of the independent t-test are: \n",
      "\tt-value = -8.021\n",
      "\tp-value = 0.000\n",
      "\n",
      "The difference between groups is -8.0 [-10.0 to -6.0] (mean [95% CI])\n"
     ]
    }
   ],
   "source": [
    "print('The results of the independent t-test are: \\n\\tt-value = {:4.3f}\\n\\tp-value = {:4.3f}'.format(t_test[0],round(t_test[1],5)))\n",
    "print('\\nThe difference between groups is {:3.1f} [{:3.1f} to {:3.1f}] (mean [95% CI])'.format(diff_mean, diff_mean - MoE, diff_mean + MoE))"
   ]
  },
  {
   "cell_type": "markdown",
   "metadata": {},
   "source": [
    "**Results**:\n",
    "> Here we performed an independent t-test, given the small sample sizes. Our confidence level is 95% and our p-value is 0.000. This indicates that there is statistical significance to our results and we can reject the null hypothesis in favor of the alternative that the duration of tests for congruent words in not equal to that of congruent words.\n",
    "\n",
    "> When I performed the experiment tast myself, interestingly enough my particular results reflected no real difference in test durations between congruent and incongruent words. So in other words, the results here did not match up with my expectations. My suspicion, however, is that because I was given a preface in the context of this test, I may have been prepared psychologically for the incongruent words to appear the way they did and therefore may have been subconsciously prepared to pick up my speed there."
   ]
  },
  {
   "cell_type": "markdown",
   "metadata": {},
   "source": [
    "**Further Reasoning**:\n",
    "> The effects observed in this statistical test can be caused by two mainly considered theories. One is the mental prioritization that takes place when we read, compared to defining colors. Another is the automaticity of reading. Regardless of the theory though, there is a central understanding that reading is a simpler and more automatic task than stating colors - therefore, a conflict between the two will increase the time needed for processing when they are not aligned.\n",
    "\n",
    "> Another example of the phenomen taking place in this test is a very common excercise, often in social settings with friends or children. It's when you try rubbing your stomach in circular motion and tapping your head in a perpendicular motion at the same time. The two motions taking place simulataneously by either arm are rather similar to the additional processing time necessary in the incongruent words phenomenon."
   ]
  },
  {
   "cell_type": "markdown",
   "metadata": {},
   "source": [
    "**References**:\n",
    "\n",
    "> https://imotions.com/blog/the-stroop-effect/\n",
    "\n",
    "> https://faculty.washington.edu/chudler/words.html"
   ]
  }
 ],
 "metadata": {
  "kernelspec": {
   "display_name": "Python 3",
   "language": "python",
   "name": "python3"
  },
  "language_info": {
   "codemirror_mode": {
    "name": "ipython",
    "version": 3
   },
   "file_extension": ".py",
   "mimetype": "text/x-python",
   "name": "python",
   "nbconvert_exporter": "python",
   "pygments_lexer": "ipython3",
   "version": "3.6.3"
  }
 },
 "nbformat": 4,
 "nbformat_minor": 2
}
